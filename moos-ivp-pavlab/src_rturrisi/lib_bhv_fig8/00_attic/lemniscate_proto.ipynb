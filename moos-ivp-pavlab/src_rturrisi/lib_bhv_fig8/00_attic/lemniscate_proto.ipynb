{
 "cells": [
  {
   "cell_type": "code",
   "execution_count": 1,
   "id": "6af86f91-b96f-4853-ab68-ca401e27005a",
   "metadata": {
    "tags": []
   },
   "outputs": [],
   "source": [
    "import numpy as np\n",
    "import matplotlib.pyplot as plt\n",
    "import ipywidgets as widgets"
   ]
  },
  {
   "cell_type": "code",
   "execution_count": 41,
   "id": "8242e40a-95f1-4243-b611-86da792f7b36",
   "metadata": {
    "tags": []
   },
   "outputs": [
    {
     "data": {
      "image/png": "[encoded data removed]",
      "text/plain": [
       "<Figure size 640x480 with 1 Axes>"
      ]
     },
     "metadata": {},
     "output_type": "display_data"
    }
   ],
   "source": [
    "def lemniscate(center_x: float, center_y: float, width: float, height: float, alpha_deg: float, direction: int, percent : float):\n",
    "    \"\"\"\n",
    "        Parameters\n",
    "         - Center - x,y\n",
    "         - width, height\n",
    "         - angle\n",
    "         - direction (-1,1)\n",
    "         - idx\n",
    "         - npoints\n",
    "    \"\"\"\n",
    "    t = ((np.pi*2*percent)+direction*np.pi/2.0)\n",
    "    \n",
    "    alpha_rad = alpha_deg*np.pi/180.0\n",
    "    s = (1.0/0.3535527625463974)\n",
    "    x_0 = (width*np.cos(t)/(1+np.sin(t)**2.0))\n",
    "    y_0 = -(s*height*np.cos(t)*np.sin(t))/(1+np.sin(t)**2.0)\n",
    "    x = center_x + x_0*np.cos(alpha_rad) - y_0*np.sin(alpha_rad)\n",
    "    y = center_y + x_0*np.sin(alpha_rad) + y_0*np.cos(alpha_rad)\n",
    "    return x,y\n",
    "\n",
    "center_x = 0\n",
    "center_y = 0\n",
    "width = 1\n",
    "\n",
    "height = 1\n",
    "n_points = 50\n",
    "alpha_deg = 0\n",
    "direction = 1\n",
    "xs = []\n",
    "ys = []\n",
    "for i in np.linspace(0,1,n_points):\n",
    "    #xs, ys = lemniscate_proto(a,b,n_points)\n",
    "    x,y = lemniscate(center_x,center_y,width,height,alpha_deg,direction,i)\n",
    "    xs.append(x)\n",
    "    ys.append(y)\n",
    "    \n",
    "plt.plot(xs, ys, 'ro')\n",
    "\n",
    "# Set equal aspect ratio\n",
    "plt.axis('equal')\n",
    "\n",
    "# Enable grid\n",
    "plt.grid(True)\n",
    "\n",
    "# Show the plot\n",
    "plt.show()\n",
    "# Cycle through different combinations of paraemters and plot them\n",
    "\n",
    "# First we are going to test the functions, and find the offsetting constant"
   ]
  },
  {
   "cell_type": "code",
   "execution_count": 44,
   "id": "8f580fa9-06f4-4e19-bfe6-043c9b8f5e8a",
   "metadata": {
    "tags": []
   },
   "outputs": [
    {
     "data": {
      "application/vnd.jupyter.widget-view+json": {
       "model_id": "007e3c633b08462ea72787b240835ebf",
       "version_major": 2,
       "version_minor": 0
      },
      "text/plain": [
       "interactive(children=(FloatSlider(value=0.0, description='Center X:', max=10.0, min=-5.0), FloatSlider(value=0…"
      ]
     },
     "metadata": {},
     "output_type": "display_data"
    }
   ],
   "source": [
    "# Function to update plot\n",
    "def update_plot(center_x=0, center_y=0, width=1, height=1, alpha_deg=0, n_points=50, percent=1.0):\n",
    "    xs = []\n",
    "    ys = []\n",
    "    direction = -1\n",
    "    for i in np.linspace(0, percent, n_points):\n",
    "        x, y = lemniscate(center_x, center_y, width, height, alpha_deg, direction, i)\n",
    "        xs.append(x)\n",
    "        ys.append(y)\n",
    "    \n",
    "    plt.figure()\n",
    "    plt.plot(xs, ys, 'ro')\n",
    "    plt.axis('equal')\n",
    "    plt.grid(True)\n",
    "    plt.xlim([-20,20])\n",
    "    plt.ylim([-20,20])\n",
    "    plt.show()\n",
    "\n",
    "# Create interactive sliders\n",
    "center_x_slider = widgets.FloatSlider(value=0, min=-5, max=10, step=0.1, description='Center X:')\n",
    "center_y_slider = widgets.FloatSlider(value=0, min=-5, max=10, step=0.1, description='Center Y:')\n",
    "width_slider = widgets.FloatSlider(value=10, min=0.1, max=20, step=0.1, description='Width:')\n",
    "height_slider = widgets.FloatSlider(value=10, min=0.1, max=20, step=0.1, description='Height:')\n",
    "alpha_deg_slider = widgets.FloatSlider(value=0, min=-180, max=180, step=1, description='Alpha (deg):')\n",
    "n_points_slider = widgets.IntSlider(value=1, min=0, max=200, step=1, description='N Points:')\n",
    "percent_slider = widgets.FloatSlider(value=1, min=0, max=1, step=0.1, description='Percent display:')\n",
    "\n",
    "# Use `widgets.interactive` to update the plot with slider values\n",
    "interactive_plot = widgets.interactive(update_plot, \n",
    "                                       center_x=center_x_slider, \n",
    "                                       center_y=center_y_slider,\n",
    "                                       width=width_slider, \n",
    "                                       height=height_slider, \n",
    "                                       alpha_deg=alpha_deg_slider,\n",
    "                                       percent=percent_slider)\n",
    "\n",
    "# Display the sliders and the plot\n",
    "display(interactive_plot)"
   ]
  },
  {
   "cell_type": "code",
   "execution_count": null,
   "id": "29c64262-54a2-4e94-9535-d4cbb087cdf9",
   "metadata": {},
   "outputs": [],
   "source": []
  }
 ],
 "metadata": {
  "kernelspec": {
   "display_name": "moos",
   "language": "python",
   "name": "moos"
  },
  "language_info": {
   "codemirror_mode": {
    "name": "ipython",
    "version": 3
   },
   "file_extension": ".py",
   "mimetype": "text/x-python",
   "name": "python",
   "nbconvert_exporter": "python",
   "pygments_lexer": "ipython3",
   "version": "3.12.4"
  }
 },
 "nbformat": 4,
 "nbformat_minor": 5
}
